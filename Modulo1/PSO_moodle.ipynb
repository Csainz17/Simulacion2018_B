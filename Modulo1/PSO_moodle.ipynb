{
 "cells": [
  {
   "cell_type": "markdown",
   "metadata": {},
   "source": [
    "# Ejercicio \n",
    "\n",
    "Minimice la siguiente función \n",
    "\n",
    "$f(x) = x^2$"
   ]
  },
  {
   "cell_type": "code",
   "execution_count": null,
   "metadata": {},
   "outputs": [],
   "source": []
  },
  {
   "cell_type": "markdown",
   "metadata": {},
   "source": [
    "# Ejercicio\n",
    "\n",
    "\n",
    "Minimice la siguiente función \n",
    "\n",
    "$$f(x) = x^2$$\n",
    "\n",
    "sujeta a la restricción\n",
    "\n",
    "$$ g(x) = x \\geq 5$$"
   ]
  },
  {
   "cell_type": "code",
   "execution_count": null,
   "metadata": {},
   "outputs": [],
   "source": []
  },
  {
   "cell_type": "markdown",
   "metadata": {},
   "source": [
    "# Ejercicio\n",
    "\n",
    "Una caja rectangular sin tapa se hace con $12 m^2$ de cartón.\n",
    "\n",
    "Calcule el volumen máximo de esta caja."
   ]
  },
  {
   "cell_type": "markdown",
   "metadata": {},
   "source": [
    "Solucion:\n",
    "\n",
    "Sean $x, y$ y $z$ el largo, el ancho\n",
    "y la altura, respectivamente, de la caja medidos en metros. Buscamos maximizar\n",
    "\n",
    "$$V=xyz $$\n",
    "\n",
    "sujeta a la restricción\n",
    "\n",
    "$$g(x,y,z) = 2xz + 2yz + xy = 12$$"
   ]
  },
  {
   "cell_type": "code",
   "execution_count": null,
   "metadata": {},
   "outputs": [],
   "source": []
  },
  {
   "cell_type": "markdown",
   "metadata": {},
   "source": [
    "# Ejercicio\n",
    "\n",
    "Un agricultor tiene $2 400$ metros de material y quiere construir una barda para\n",
    "cercar un campo rectangular que bordea un río recto, de modo que no necesita barda a\n",
    "lo largo del río. \n",
    "\n",
    "¿Cuáles son las dimensiones que debe tener el campo para encerrar el\n",
    "área más grande?\n",
    "\n",
    "### Solución\n",
    "\n",
    "- Queremos maximizar el área $A$ del rectángulo.\n",
    "\n",
    "$$A(x,y) = xy $$\n",
    "\n",
    "Ademas tenemos una restriccion, utilizamos la información dada de que la longitud total de la barda es $2400$ metros\n",
    "\n",
    "$$2x + y = 2400 $$"
   ]
  },
  {
   "cell_type": "code",
   "execution_count": null,
   "metadata": {},
   "outputs": [],
   "source": []
  },
  {
   "cell_type": "markdown",
   "metadata": {},
   "source": [
    "# Ejercicio\n",
    "\n",
    "Se va un fabricar una lata que ha de contener $1 L$ de aceite. Encuentre\n",
    "las dimensiones que debe tener la lata de manera que minimicen el costo del metal para fabricarla.\n",
    "\n",
    "De esta manera, el área superficial es\n",
    "$$A(r,h) = 2\\pi r^2 + 2\\pi r h  $$\n",
    "\n",
    "El volumen está dado como $1 L$, que tomamos como $1000$ $cm^3$\n",
    "\n",
    "$$\\pi r^2h=1000 $$\n",
    "\n"
   ]
  },
  {
   "cell_type": "code",
   "execution_count": null,
   "metadata": {},
   "outputs": [],
   "source": []
  },
  {
   "cell_type": "code",
   "execution_count": null,
   "metadata": {},
   "outputs": [],
   "source": []
  }
 ],
 "metadata": {
  "kernelspec": {
   "display_name": "Python 3",
   "language": "python",
   "name": "python3"
  },
  "language_info": {
   "codemirror_mode": {
    "name": "ipython",
    "version": 3
   },
   "file_extension": ".py",
   "mimetype": "text/x-python",
   "name": "python",
   "nbconvert_exporter": "python",
   "pygments_lexer": "ipython3",
   "version": "3.6.4"
  },
  "toc": {
   "base_numbering": 1,
   "nav_menu": {},
   "number_sections": true,
   "sideBar": true,
   "skip_h1_title": false,
   "title_cell": "Table of Contents",
   "title_sidebar": "Contents",
   "toc_cell": false,
   "toc_position": {},
   "toc_section_display": true,
   "toc_window_display": false
  }
 },
 "nbformat": 4,
 "nbformat_minor": 2
}
